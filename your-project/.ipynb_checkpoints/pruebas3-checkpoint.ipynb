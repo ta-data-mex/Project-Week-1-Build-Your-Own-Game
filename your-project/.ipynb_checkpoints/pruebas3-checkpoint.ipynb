{
 "cells": [
  {
   "cell_type": "code",
   "execution_count": 1,
   "metadata": {},
   "outputs": [
    {
     "name": "stdout",
     "output_type": "stream",
     "text": [
      "<function propiedad at 0x7f5df02bce18>\n"
     ]
    }
   ],
   "source": [
    "def propiedad (jugador, posicion):\n",
    "\n",
    "# posicion['dueño'] = 0 > sin dueño o sin dueño\n",
    "# posicion['dueño'] = 1 > con dueño, dueño = jugador o jugador 1\n",
    "# posicion['dueño'] = 2 > con dueño, dueño != jugador o jugador 2\n",
    "    \n",
    "    if posicion['dueño'] == 0:\n",
    "        respuesta_comprar = int(input('¿Quieres comprar la propiedad? Presiona 1 para Sí, 2 para -No-.')) \n",
    "        if respuesta_comprar == 1:\n",
    "            jugador['dinero'] - posicion['valor de la propiedad']\n",
    "    elif posicion['dueño'] == 1:\n",
    "        respuesta_construir = int(input('¿Quieres construir casa u hotel? Presiona 1 para casa, 2 para hotel, 0 para no construir.'))\n",
    "        if respuesta_construir == 1:\n",
    "            if posicion['casas'] == 4:\n",
    "                input('Tienes 4 casas aquí, ya no puedes construir más.')\n",
    "            else:\n",
    "                jugador['dinero'] - posicion['costo_casa']\n",
    "        elif respuesta_construir == 2:\n",
    "            if posicion['hoteles'] == 4:\n",
    "                input('Tienes 4 casas aquí, ya no puedes construir más.')\n",
    "            else:\n",
    "                jugador['dinero'] - posicion['costo_hotel']\n",
    "    else: jugador['dinero'] - posicion['costo_renta']\n",
    "        \n",
    "    \n",
    "    return\n",
    "\n",
    "print(propiedad)"
   ]
  },
  {
   "cell_type": "code",
   "execution_count": null,
   "metadata": {},
   "outputs": [],
   "source": []
  }
 ],
 "metadata": {
  "kernelspec": {
   "display_name": "Python 3",
   "language": "python",
   "name": "python3"
  },
  "language_info": {
   "codemirror_mode": {
    "name": "ipython",
    "version": 3
   },
   "file_extension": ".py",
   "mimetype": "text/x-python",
   "name": "python",
   "nbconvert_exporter": "python",
   "pygments_lexer": "ipython3",
   "version": "3.7.3"
  }
 },
 "nbformat": 4,
 "nbformat_minor": 2
}
