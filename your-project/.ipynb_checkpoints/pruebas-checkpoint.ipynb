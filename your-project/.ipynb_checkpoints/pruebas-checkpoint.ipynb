{
 "cells": [
  {
   "cell_type": "code",
   "execution_count": 52,
   "metadata": {},
   "outputs": [],
   "source": [
    "strs = 'abcdefghijklmnopqrstuvwxyz'      #use a string like this, instead of ord() \n",
    "def shifttext(shift):\n",
    "    inp = 'adios' #raw_input('Input text here: ')\n",
    "    data = []\n",
    "    for i in inp:                     #iterate over the text not some list\n",
    "        if i.strip() and i in strs:                 # if the char is not a space \"\"  \n",
    "            data.append(strs[(strs.index(i) + shift) % 26])    \n",
    "        else:\n",
    "            data.append(i)           #if space the simply append it to data\n",
    "    output = ''.join(data)\n",
    "    return output"
   ]
  },
  {
   "cell_type": "code",
   "execution_count": 53,
   "metadata": {},
   "outputs": [
    {
     "data": {
      "text/plain": [
       "'cfkqu'"
      ]
     },
     "execution_count": 53,
     "metadata": {},
     "output_type": "execute_result"
    }
   ],
   "source": [
    "shifttext(2)"
   ]
  },
  {
   "cell_type": "code",
   "execution_count": 15,
   "metadata": {},
   "outputs": [],
   "source": [
    "strs = 'abcdefghijklmnopqrstuvwxyz'      #use a string like this, instead of ord() \n",
    "def shifttext(shift):\n",
    "    inp = raw_input('Input text here: ')\n",
    "    data = []\n",
    "    for i in inp:                     #iterate over the text not some list\n",
    "        if i.strip() and i in strs:                 # if the char is not a space \"\"  \n",
    "            data.append(strs[(strs.index(i) + shift) % 26])    \n",
    "        else:\n",
    "            data.append(i)           #if space the simply append it to data\n",
    "    output = ''.join(data)\n",
    "    return output"
   ]
  },
  {
   "cell_type": "code",
   "execution_count": 16,
   "metadata": {},
   "outputs": [
    {
     "ename": "NameError",
     "evalue": "name 'raw_input' is not defined",
     "output_type": "error",
     "traceback": [
      "\u001b[0;31m---------------------------------------------------------------------------\u001b[0m",
      "\u001b[0;31mNameError\u001b[0m                                 Traceback (most recent call last)",
      "\u001b[0;32m<ipython-input-16-97eadcac3e8d>\u001b[0m in \u001b[0;36m<module>\u001b[0;34m\u001b[0m\n\u001b[0;32m----> 1\u001b[0;31m \u001b[0mshifttext\u001b[0m\u001b[0;34m(\u001b[0m\u001b[0;36m4\u001b[0m\u001b[0;34m)\u001b[0m\u001b[0;34m\u001b[0m\u001b[0;34m\u001b[0m\u001b[0m\n\u001b[0m",
      "\u001b[0;32m<ipython-input-15-c2ee7fd59052>\u001b[0m in \u001b[0;36mshifttext\u001b[0;34m(shift)\u001b[0m\n\u001b[1;32m      1\u001b[0m \u001b[0mstrs\u001b[0m \u001b[0;34m=\u001b[0m \u001b[0;34m'abcdefghijklmnopqrstuvwxyz'\u001b[0m      \u001b[0;31m#use a string like this, instead of ord()\u001b[0m\u001b[0;34m\u001b[0m\u001b[0;34m\u001b[0m\u001b[0m\n\u001b[1;32m      2\u001b[0m \u001b[0;32mdef\u001b[0m \u001b[0mshifttext\u001b[0m\u001b[0;34m(\u001b[0m\u001b[0mshift\u001b[0m\u001b[0;34m)\u001b[0m\u001b[0;34m:\u001b[0m\u001b[0;34m\u001b[0m\u001b[0;34m\u001b[0m\u001b[0m\n\u001b[0;32m----> 3\u001b[0;31m     \u001b[0minp\u001b[0m \u001b[0;34m=\u001b[0m \u001b[0mraw_input\u001b[0m\u001b[0;34m(\u001b[0m\u001b[0;34m'Input text here: '\u001b[0m\u001b[0;34m)\u001b[0m\u001b[0;34m\u001b[0m\u001b[0;34m\u001b[0m\u001b[0m\n\u001b[0m\u001b[1;32m      4\u001b[0m     \u001b[0mdata\u001b[0m \u001b[0;34m=\u001b[0m \u001b[0;34m[\u001b[0m\u001b[0;34m]\u001b[0m\u001b[0;34m\u001b[0m\u001b[0;34m\u001b[0m\u001b[0m\n\u001b[1;32m      5\u001b[0m     \u001b[0;32mfor\u001b[0m \u001b[0mi\u001b[0m \u001b[0;32min\u001b[0m \u001b[0minp\u001b[0m\u001b[0;34m:\u001b[0m                     \u001b[0;31m#iterate over the text not some list\u001b[0m\u001b[0;34m\u001b[0m\u001b[0;34m\u001b[0m\u001b[0m\n",
      "\u001b[0;31mNameError\u001b[0m: name 'raw_input' is not defined"
     ]
    }
   ],
   "source": [
    "shifttext(4)"
   ]
  },
  {
   "cell_type": "code",
   "execution_count": 2,
   "metadata": {},
   "outputs": [
    {
     "name": "stdout",
     "output_type": "stream",
     "text": [
      "{'jugador1': {'dinero': 150000, 'casilla': 'rusia'}}\n",
      "{'jugador2': {'dinero': 150000, 'casilla': {'inicio': 20000}}}\n"
     ]
    }
   ],
   "source": [
    "#Proyecto juego turista mundial\n",
    "import random\n",
    "\n",
    "dice = random.randint(1,6) #dado normal del 1 al 6\n",
    "\n",
    "tablero = [{'inicio':20000},\n",
    "           {'canada':{'valor_de_la_propiedad':12000, 'renta':3600, 'costo_casa':2400, 'costo_hotel':6000, 'dueño':0, 'casas':0, 'hoteles':0, 'quien_esta':[0,0]}},\n",
    "          {'peru':{'valor_de_la_propiedad':15000, 'renta':4500, 'costo_casa':3000, 'costo_hotel':7500, 'dueño':0, 'casas':0, 'hoteles':0, 'quien_esta':[0,0]}},\n",
    "            {'brasil':{'valor_de_la_propiedad':23000, 'renta':6900, 'costo_casa':4600, 'costo_hotel':11500, 'dueño':0, 'casas':0, 'hoteles':0, 'quien_esta':[0,0]}},\n",
    "          {'carcel':-30000}, \n",
    "           {'portugal':{'valor_de_la_propiedad':30000, 'renta':9000, 'costo_casa':6000, 'costo_hotel':15000, 'dueño':0, 'casas':0, 'hoteles':0, 'quien_esta':[0,0]}},\n",
    "          {'italia':{'valor_de_la_propiedad':40000, 'renta':12000, 'costo_casa':8000, 'costo_hotel':20000, 'dueño':0, 'casas':0, 'hoteles':0, 'quien_esta':[0,0]}},\n",
    "          {'finlandia':{'valor_de_la_propiedad':26000, 'renta':7800, 'costo_casa':5200, 'costo_hotel':13000, 'dueño':0, 'casas':0, 'hoteles':0, 'quien_esta':[0,0]}},\n",
    "           {'sigue_adelante':0},\n",
    "          {'rusia':{'valor_de_la_propiedad':18000, 'renta':5400, 'costo_casa':3600, 'costo_hotel':9000, 'dueño':0, 'casas':0, 'hoteles':0, 'quien_esta':[0,0]}},\n",
    "          {'china':{'valor_de_la_propiedad':25000, 'renta':7500, 'costo_casa':5000, 'costo_hotel':12500, 'dueño':0, 'casas':0, 'hoteles':0, 'quien_esta':[0,0]}},\n",
    "          {'japon':{'valor_de_la_propiedad':41000, 'renta':12300, 'costo_casa':8200, 'costo_hotel':20500, 'dueño':0, 'casas':0, 'hoteles':0, 'quien_esta':[0,0]}},\n",
    "          {'ir_carcel':0},\n",
    "          {'argelia':{'valor_de_la_propiedad':32000, 'renta':9600, 'costo_casa':6400, 'costo_hotel':16000, 'dueño':0, 'casas':0, 'hoteles':0, 'quien_esta':[0,0]}},\n",
    "          {'congo':{'valor_de_la_propiedad':35000, 'renta':10500, 'costo_casa':7000, 'costo_hotel':17500, 'dueño':0, 'casas':0, 'hoteles':0, 'quien_esta':[0,0]}},\n",
    "          {'sudafrica':{'valor_de_la_propiedad':37000, 'renta':11100, 'costo_casa':7400, 'costo_hotel':18500, 'dueño':0, 'casas':0, 'hoteles':0, 'quien_esta':[0,0]}}]\n",
    "\n",
    "[[k,v]] = tablero[9].items() #el numero en el tablero, que es la casilla, lo podemos actualizar con: tablero[actual]+dado= tablero[actualizado]\n",
    "\n",
    "\n",
    "jugadores = [{'jugador1':{'dinero':150000, 'casilla':k}},{'jugador2':{'dinero':150000, 'casilla':tablero[0]}}]\n",
    "#las acciones son\n",
    "# comprar y append \n",
    "#\n",
    "#\n",
    "#\n",
    "# \n",
    "## nombre = input('Escribe tu nombre: ')\n",
    "## print(nombre)\n",
    "\n",
    "\n",
    "print(jugadores[0])\n",
    "print(jugadores[1])\n",
    "\n",
    "##########################\n"
   ]
  },
  {
   "cell_type": "code",
   "execution_count": 20,
   "metadata": {},
   "outputs": [
    {
     "name": "stdout",
     "output_type": "stream",
     "text": [
      "Turno jugador 1\n",
      "El dado salió 1 \n",
      "El jugador 1 llegó a la casilla canada\n",
      "1\n",
      "{'canada': {'valor_de_la_propiedad': 12000, 'renta': 3600, 'costo_casa': 2400, 'costo_hotel': 6000, 'dueño': 0, 'casas': 0, 'hoteles': 0, 'quien_esta': [0, 0]}}\n"
     ]
    }
   ],
   "source": [
    "import random\n",
    "\n",
    "tablero = [{'inicio':20000},\n",
    "           {'canada':{'valor_de_la_propiedad':12000, 'renta':3600, 'costo_casa':2400, 'costo_hotel':6000, 'dueño':0, 'casas':0, 'hoteles':0, 'quien_esta':[0,0]}},\n",
    "          {'peru':{'valor_de_la_propiedad':15000, 'renta':4500, 'costo_casa':3000, 'costo_hotel':7500, 'dueño':0, 'casas':0, 'hoteles':0, 'quien_esta':[0,0]}},\n",
    "            {'brasil':{'valor_de_la_propiedad':23000, 'renta':6900, 'costo_casa':4600, 'costo_hotel':11500, 'dueño':0, 'casas':0, 'hoteles':0, 'quien_esta':[0,0]}},\n",
    "          {'carcel':-30000}, \n",
    "           {'portugal':{'valor_de_la_propiedad':30000, 'renta':9000, 'costo_casa':6000, 'costo_hotel':15000, 'dueño':0, 'casas':0, 'hoteles':0, 'quien_esta':[0,0]}},\n",
    "          {'italia':{'valor_de_la_propiedad':40000, 'renta':12000, 'costo_casa':8000, 'costo_hotel':20000, 'dueño':0, 'casas':0, 'hoteles':0, 'quien_esta':[0,0]}},\n",
    "          {'finlandia':{'valor_de_la_propiedad':26000, 'renta':7800, 'costo_casa':5200, 'costo_hotel':13000, 'dueño':0, 'casas':0, 'hoteles':0, 'quien_esta':[0,0]}},\n",
    "           {'sigue_adelante':0},\n",
    "          {'rusia':{'valor_de_la_propiedad':18000, 'renta':5400, 'costo_casa':3600, 'costo_hotel':9000, 'dueño':0, 'casas':0, 'hoteles':0, 'quien_esta':[0,0]}},\n",
    "          {'china':{'valor_de_la_propiedad':25000, 'renta':7500, 'costo_casa':5000, 'costo_hotel':12500, 'dueño':0, 'casas':0, 'hoteles':0, 'quien_esta':[0,0]}},\n",
    "          {'japon':{'valor_de_la_propiedad':41000, 'renta':12300, 'costo_casa':8200, 'costo_hotel':20500, 'dueño':0, 'casas':0, 'hoteles':0, 'quien_esta':[0,0]}},\n",
    "          {'ir_carcel':0},\n",
    "          {'argelia':{'valor_de_la_propiedad':32000, 'renta':9600, 'costo_casa':6400, 'costo_hotel':16000, 'dueño':0, 'casas':0, 'hoteles':0, 'quien_esta':[0,0]}},\n",
    "          {'congo':{'valor_de_la_propiedad':35000, 'renta':10500, 'costo_casa':7000, 'costo_hotel':17500, 'dueño':0, 'casas':0, 'hoteles':0, 'quien_esta':[0,0]}},\n",
    "          {'sudafrica':{'valor_de_la_propiedad':37000, 'renta':11100, 'costo_casa':7400, 'costo_hotel':18500, 'dueño':0, 'casas':0, 'hoteles':0, 'quien_esta':[0,0]}}]\n",
    "\n",
    "jugadores = [{'jugador1':{'dinero':150000, 'casilla':k}},{'jugador2':{'dinero':150000, 'casilla':tablero[0]}}]\n",
    "\n",
    "dado = random.randint(1,4) #dado normal del 1 al 4\n",
    "\n",
    "###### Ponemos las fichas en la casilla de salida\n",
    "tirada_j1 = 0\n",
    "tirada_j2 = 0\n",
    "casilla_actual_j1 = tablero[tirada_j1]\n",
    "casilla_actual_j2 = tablero[tirada_j2]\n",
    "\n",
    "###### Turno jugador1\n",
    "\n",
    "print('Turno jugador 1')\n",
    "tirada_j1 = (tirada_j1 + dado)%16\n",
    "[[k,v]] = tablero[tirada_j1].items() #k guarda el nombre de la casilla y v guarda sus características\n",
    "print('El dado salió', dado, '\\nEl jugador 1 llegó a la casilla', k)\n",
    "print(tirada_j1)\n",
    "casilla_actual_j1 = tablero[tirada_j1]\n",
    "print(casilla_actual_j1)\n",
    "\n"
   ]
  },
  {
   "cell_type": "code",
   "execution_count": null,
   "metadata": {},
   "outputs": [],
   "source": []
  },
  {
   "cell_type": "code",
   "execution_count": null,
   "metadata": {},
   "outputs": [],
   "source": []
  }
 ],
 "metadata": {
  "kernelspec": {
   "display_name": "Python 3",
   "language": "python",
   "name": "python3"
  },
  "language_info": {
   "codemirror_mode": {
    "name": "ipython",
    "version": 3
   },
   "file_extension": ".py",
   "mimetype": "text/x-python",
   "name": "python",
   "nbconvert_exporter": "python",
   "pygments_lexer": "ipython3",
   "version": "3.7.3"
  }
 },
 "nbformat": 4,
 "nbformat_minor": 2
}
