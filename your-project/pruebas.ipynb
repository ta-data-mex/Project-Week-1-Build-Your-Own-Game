{
 "cells": [
  {
   "cell_type": "code",
   "execution_count": 52,
   "metadata": {},
   "outputs": [],
   "source": [
    "strs = 'abcdefghijklmnopqrstuvwxyz'      #use a string like this, instead of ord() \n",
    "def shifttext(shift):\n",
    "    inp = 'adios' #raw_input('Input text here: ')\n",
    "    data = []\n",
    "    for i in inp:                     #iterate over the text not some list\n",
    "        if i.strip() and i in strs:                 # if the char is not a space \"\"  \n",
    "            data.append(strs[(strs.index(i) + shift) % 26])    \n",
    "        else:\n",
    "            data.append(i)           #if space the simply append it to data\n",
    "    output = ''.join(data)\n",
    "    return output"
   ]
  },
  {
   "cell_type": "code",
   "execution_count": 53,
   "metadata": {},
   "outputs": [
    {
     "data": {
      "text/plain": [
       "'cfkqu'"
      ]
     },
     "execution_count": 53,
     "metadata": {},
     "output_type": "execute_result"
    }
   ],
   "source": [
    "shifttext(2)"
   ]
  },
  {
   "cell_type": "code",
   "execution_count": 15,
   "metadata": {},
   "outputs": [],
   "source": [
    "strs = 'abcdefghijklmnopqrstuvwxyz'      #use a string like this, instead of ord() \n",
    "def shifttext(shift):\n",
    "    inp = raw_input('Input text here: ')\n",
    "    data = []\n",
    "    for i in inp:                     #iterate over the text not some list\n",
    "        if i.strip() and i in strs:                 # if the char is not a space \"\"  \n",
    "            data.append(strs[(strs.index(i) + shift) % 26])    \n",
    "        else:\n",
    "            data.append(i)           #if space the simply append it to data\n",
    "    output = ''.join(data)\n",
    "    return output"
   ]
  },
  {
   "cell_type": "code",
   "execution_count": 16,
   "metadata": {},
   "outputs": [
    {
     "ename": "NameError",
     "evalue": "name 'raw_input' is not defined",
     "output_type": "error",
     "traceback": [
      "\u001b[0;31m---------------------------------------------------------------------------\u001b[0m",
      "\u001b[0;31mNameError\u001b[0m                                 Traceback (most recent call last)",
      "\u001b[0;32m<ipython-input-16-97eadcac3e8d>\u001b[0m in \u001b[0;36m<module>\u001b[0;34m\u001b[0m\n\u001b[0;32m----> 1\u001b[0;31m \u001b[0mshifttext\u001b[0m\u001b[0;34m(\u001b[0m\u001b[0;36m4\u001b[0m\u001b[0;34m)\u001b[0m\u001b[0;34m\u001b[0m\u001b[0;34m\u001b[0m\u001b[0m\n\u001b[0m",
      "\u001b[0;32m<ipython-input-15-c2ee7fd59052>\u001b[0m in \u001b[0;36mshifttext\u001b[0;34m(shift)\u001b[0m\n\u001b[1;32m      1\u001b[0m \u001b[0mstrs\u001b[0m \u001b[0;34m=\u001b[0m \u001b[0;34m'abcdefghijklmnopqrstuvwxyz'\u001b[0m      \u001b[0;31m#use a string like this, instead of ord()\u001b[0m\u001b[0;34m\u001b[0m\u001b[0;34m\u001b[0m\u001b[0m\n\u001b[1;32m      2\u001b[0m \u001b[0;32mdef\u001b[0m \u001b[0mshifttext\u001b[0m\u001b[0;34m(\u001b[0m\u001b[0mshift\u001b[0m\u001b[0;34m)\u001b[0m\u001b[0;34m:\u001b[0m\u001b[0;34m\u001b[0m\u001b[0;34m\u001b[0m\u001b[0m\n\u001b[0;32m----> 3\u001b[0;31m     \u001b[0minp\u001b[0m \u001b[0;34m=\u001b[0m \u001b[0mraw_input\u001b[0m\u001b[0;34m(\u001b[0m\u001b[0;34m'Input text here: '\u001b[0m\u001b[0;34m)\u001b[0m\u001b[0;34m\u001b[0m\u001b[0;34m\u001b[0m\u001b[0m\n\u001b[0m\u001b[1;32m      4\u001b[0m     \u001b[0mdata\u001b[0m \u001b[0;34m=\u001b[0m \u001b[0;34m[\u001b[0m\u001b[0;34m]\u001b[0m\u001b[0;34m\u001b[0m\u001b[0;34m\u001b[0m\u001b[0m\n\u001b[1;32m      5\u001b[0m     \u001b[0;32mfor\u001b[0m \u001b[0mi\u001b[0m \u001b[0;32min\u001b[0m \u001b[0minp\u001b[0m\u001b[0;34m:\u001b[0m                     \u001b[0;31m#iterate over the text not some list\u001b[0m\u001b[0;34m\u001b[0m\u001b[0;34m\u001b[0m\u001b[0m\n",
      "\u001b[0;31mNameError\u001b[0m: name 'raw_input' is not defined"
     ]
    }
   ],
   "source": [
    "shifttext(4)"
   ]
  },
  {
   "cell_type": "code",
   "execution_count": 2,
   "metadata": {},
   "outputs": [
    {
     "name": "stdout",
     "output_type": "stream",
     "text": [
      "{'jugador1': {'dinero': 150000, 'casilla': 'rusia'}}\n",
      "{'jugador2': {'dinero': 150000, 'casilla': {'inicio': 20000}}}\n"
     ]
    }
   ],
   "source": [
    "#Proyecto juego turista mundial\n",
    "import random\n",
    "\n",
    "dice = random.randint(1,6) #dado normal del 1 al 6\n",
    "\n",
    "tablero = [{'inicio':20000},\n",
    "           {'canada':{'valor_de_la_propiedad':12000, 'renta':3600, 'costo_casa':2400, 'costo_hotel':6000, 'dueño':0, 'casas':0, 'hoteles':0, 'quien_esta':[0,0]}},\n",
    "          {'peru':{'valor_de_la_propiedad':15000, 'renta':4500, 'costo_casa':3000, 'costo_hotel':7500, 'dueño':0, 'casas':0, 'hoteles':0, 'quien_esta':[0,0]}},\n",
    "            {'brasil':{'valor_de_la_propiedad':23000, 'renta':6900, 'costo_casa':4600, 'costo_hotel':11500, 'dueño':0, 'casas':0, 'hoteles':0, 'quien_esta':[0,0]}},\n",
    "          {'carcel':-30000}, \n",
    "           {'portugal':{'valor_de_la_propiedad':30000, 'renta':9000, 'costo_casa':6000, 'costo_hotel':15000, 'dueño':0, 'casas':0, 'hoteles':0, 'quien_esta':[0,0]}},\n",
    "          {'italia':{'valor_de_la_propiedad':40000, 'renta':12000, 'costo_casa':8000, 'costo_hotel':20000, 'dueño':0, 'casas':0, 'hoteles':0, 'quien_esta':[0,0]}},\n",
    "          {'finlandia':{'valor_de_la_propiedad':26000, 'renta':7800, 'costo_casa':5200, 'costo_hotel':13000, 'dueño':0, 'casas':0, 'hoteles':0, 'quien_esta':[0,0]}},\n",
    "           {'sigue_adelante':0},\n",
    "          {'rusia':{'valor_de_la_propiedad':18000, 'renta':5400, 'costo_casa':3600, 'costo_hotel':9000, 'dueño':0, 'casas':0, 'hoteles':0, 'quien_esta':[0,0]}},\n",
    "          {'china':{'valor_de_la_propiedad':25000, 'renta':7500, 'costo_casa':5000, 'costo_hotel':12500, 'dueño':0, 'casas':0, 'hoteles':0, 'quien_esta':[0,0]}},\n",
    "          {'japon':{'valor_de_la_propiedad':41000, 'renta':12300, 'costo_casa':8200, 'costo_hotel':20500, 'dueño':0, 'casas':0, 'hoteles':0, 'quien_esta':[0,0]}},\n",
    "          {'ir_carcel':0},\n",
    "          {'argelia':{'valor_de_la_propiedad':32000, 'renta':9600, 'costo_casa':6400, 'costo_hotel':16000, 'dueño':0, 'casas':0, 'hoteles':0, 'quien_esta':[0,0]}},\n",
    "          {'congo':{'valor_de_la_propiedad':35000, 'renta':10500, 'costo_casa':7000, 'costo_hotel':17500, 'dueño':0, 'casas':0, 'hoteles':0, 'quien_esta':[0,0]}},\n",
    "          {'sudafrica':{'valor_de_la_propiedad':37000, 'renta':11100, 'costo_casa':7400, 'costo_hotel':18500, 'dueño':0, 'casas':0, 'hoteles':0, 'quien_esta':[0,0]}}]\n",
    "\n",
    "[[k,v]] = tablero[9].items() #el numero en el tablero, que es la casilla, lo podemos actualizar con: tablero[actual]+dado= tablero[actualizado]\n",
    "\n",
    "\n",
    "jugadores = [{'jugador1':{'dinero':150000, 'casilla':k}},{'jugador2':{'dinero':150000, 'casilla':tablero[0]}}]\n",
    "#las acciones son\n",
    "# comprar y append \n",
    "#\n",
    "#\n",
    "#\n",
    "# \n",
    "## nombre = input('Escribe tu nombre: ')\n",
    "## print(nombre)\n",
    "\n",
    "\n",
    "print(jugadores[0])\n",
    "print(jugadores[1])\n",
    "\n",
    "##########################\n"
   ]
  },
  {
   "cell_type": "code",
   "execution_count": 24,
   "metadata": {},
   "outputs": [
    {
     "name": "stdout",
     "output_type": "stream",
     "text": [
      "Turno jugador 1\n",
      "El dado salió 3 \n",
      "El jugador 1 llegó a la casilla brasil\n",
      "Turno jugador 1\n",
      "El dado salió 3 \n",
      "El jugador 1 llegó a la casilla italia\n",
      "Turno jugador 1\n",
      "El dado salió 3 \n",
      "El jugador 1 llegó a la casilla rusia\n",
      "Turno jugador 1\n",
      "El dado salió 3 \n",
      "El jugador 1 llegó a la casilla ir_carcel\n"
     ]
    }
   ],
   "source": [
    "import random\n",
    "\n",
    "tablero = [{'inicio':20000},\n",
    "           {'canada':{'valor_de_la_propiedad':12000, 'renta':3600, 'costo_casa':2400, 'costo_hotel':6000, 'dueño':0, 'casas':0, 'hoteles':0, 'quien_esta':[0,0]}},\n",
    "          {'peru':{'valor_de_la_propiedad':15000, 'renta':4500, 'costo_casa':3000, 'costo_hotel':7500, 'dueño':0, 'casas':0, 'hoteles':0, 'quien_esta':[0,0]}},\n",
    "            {'brasil':{'valor_de_la_propiedad':23000, 'renta':6900, 'costo_casa':4600, 'costo_hotel':11500, 'dueño':0, 'casas':0, 'hoteles':0, 'quien_esta':[0,0]}},\n",
    "          {'carcel':-30000}, \n",
    "           {'portugal':{'valor_de_la_propiedad':30000, 'renta':9000, 'costo_casa':6000, 'costo_hotel':15000, 'dueño':0, 'casas':0, 'hoteles':0, 'quien_esta':[0,0]}},\n",
    "          {'italia':{'valor_de_la_propiedad':40000, 'renta':12000, 'costo_casa':8000, 'costo_hotel':20000, 'dueño':0, 'casas':0, 'hoteles':0, 'quien_esta':[0,0]}},\n",
    "          {'finlandia':{'valor_de_la_propiedad':26000, 'renta':7800, 'costo_casa':5200, 'costo_hotel':13000, 'dueño':0, 'casas':0, 'hoteles':0, 'quien_esta':[0,0]}},\n",
    "           {'sigue_adelante':0},\n",
    "          {'rusia':{'valor_de_la_propiedad':18000, 'renta':5400, 'costo_casa':3600, 'costo_hotel':9000, 'dueño':0, 'casas':0, 'hoteles':0, 'quien_esta':[0,0]}},\n",
    "          {'china':{'valor_de_la_propiedad':25000, 'renta':7500, 'costo_casa':5000, 'costo_hotel':12500, 'dueño':0, 'casas':0, 'hoteles':0, 'quien_esta':[0,0]}},\n",
    "          {'japon':{'valor_de_la_propiedad':41000, 'renta':12300, 'costo_casa':8200, 'costo_hotel':20500, 'dueño':0, 'casas':0, 'hoteles':0, 'quien_esta':[0,0]}},\n",
    "          {'ir_carcel':0},\n",
    "          {'argelia':{'valor_de_la_propiedad':32000, 'renta':9600, 'costo_casa':6400, 'costo_hotel':16000, 'dueño':0, 'casas':0, 'hoteles':0, 'quien_esta':[0,0]}},\n",
    "          {'congo':{'valor_de_la_propiedad':35000, 'renta':10500, 'costo_casa':7000, 'costo_hotel':17500, 'dueño':0, 'casas':0, 'hoteles':0, 'quien_esta':[0,0]}},\n",
    "          {'sudafrica':{'valor_de_la_propiedad':37000, 'renta':11100, 'costo_casa':7400, 'costo_hotel':18500, 'dueño':0, 'casas':0, 'hoteles':0, 'quien_esta':[0,0]}}]\n",
    "\n",
    "jugadores = [{'jugador1':{'dinero':150000, 'casilla':k}},{'jugador2':{'dinero':150000, 'casilla':tablero[0]}}]\n",
    "\n",
    "dado = random.randint(1,4) #dado normal del 1 al 4\n",
    "\n",
    "###### Ponemos las fichas en la casilla de salida\n",
    "tirada_j1 = 0\n",
    "tirada_j2 = 0\n",
    "casilla_actual_j1 = tablero[tirada_j1]\n",
    "casilla_actual_j2 = tablero[tirada_j2]\n",
    "\n",
    "###### Turno jugador1\n",
    "\n",
    "print('Turno jugador 1')\n",
    "tirada_j1 = (tirada_j1 + dado)%16\n",
    "[[k,v]] = tablero[tirada_j1].items() #k guarda el nombre de la casilla y v guarda el diccionario de sus caracteristicas\n",
    "print('El dado salió', dado, '\\nEl jugador 1 llegó a la casilla', k)\n",
    "\n",
    "#print(k)\n",
    "#print(v)\n",
    "#print(tirada_j1)\n",
    "#casilla_actual_j1 = tablero[tirada_j1]\n",
    "#print(casilla_actual_j1)\n",
    "\n",
    "print('Turno jugador 1')\n",
    "tirada_j1 = (tirada_j1 + dado)%16\n",
    "[[k,v]] = tablero[tirada_j1].items() #k guarda el nombre de la casilla y v guarda el diccionario de sus caracteristicas\n",
    "print('El dado salió', dado, '\\nEl jugador 1 llegó a la casilla', k)\n",
    "\n",
    "print('Turno jugador 1')\n",
    "tirada_j1 = (tirada_j1 + dado)%16\n",
    "[[k,v]] = tablero[tirada_j1].items() #k guarda el nombre de la casilla y v guarda el diccionario de sus caracteristicas\n",
    "print('El dado salió', dado, '\\nEl jugador 1 llegó a la casilla', k)\n",
    "\n",
    "print('Turno jugador 1')\n",
    "tirada_j1 = (tirada_j1 + dado)%16\n",
    "[[k,v]] = tablero[tirada_j1].items() #k guarda el nombre de la casilla y v guarda el diccionario de sus caracteristicas\n",
    "print('El dado salió', dado, '\\nEl jugador 1 llegó a la casilla', k)"
   ]
  },
  {
   "cell_type": "code",
   "execution_count": 71,
   "metadata": {},
   "outputs": [
    {
     "name": "stdout",
     "output_type": "stream",
     "text": [
      "Turno jugador 1\n",
      "El dado salió 1 \n",
      "El jugador 1 llegó a la casilla canada\n",
      "¿Quieres comprar la propiedad? Presiona 1 para Sí, 2 para -No-.1\n",
      "[1, 'canada', 138000, 1]\n",
      "Turno jugador 2\n",
      "El dado salió 1 \n",
      "El jugador 2 llegó a la casilla canada\n",
      "[1, 'canada', 138010]\n",
      "Turno jugador 1\n",
      "El dado salió 2 \n",
      "El jugador 1 llegó a la casilla brasil\n",
      "¿Quieres comprar la propiedad? Presiona 1 para Sí, 2 para -No-.2\n"
     ]
    },
    {
     "ename": "UnboundLocalError",
     "evalue": "local variable 'dinero' referenced before assignment",
     "output_type": "error",
     "traceback": [
      "\u001b[0;31m---------------------------------------------------------------------------\u001b[0m",
      "\u001b[0;31mUnboundLocalError\u001b[0m                         Traceback (most recent call last)",
      "\u001b[0;32m<ipython-input-71-7b1f35377d83>\u001b[0m in \u001b[0;36m<module>\u001b[0;34m\u001b[0m\n\u001b[1;32m     52\u001b[0m \u001b[0;34m\u001b[0m\u001b[0m\n\u001b[1;32m     53\u001b[0m \u001b[0;32mfor\u001b[0m \u001b[0mi\u001b[0m \u001b[0;32min\u001b[0m \u001b[0mrange\u001b[0m\u001b[0;34m(\u001b[0m\u001b[0;36m3\u001b[0m\u001b[0;34m)\u001b[0m\u001b[0;34m:\u001b[0m\u001b[0;34m\u001b[0m\u001b[0;34m\u001b[0m\u001b[0m\n\u001b[0;32m---> 54\u001b[0;31m     \u001b[0mn\u001b[0m \u001b[0;34m=\u001b[0m \u001b[0mmov_j1\u001b[0m\u001b[0;34m(\u001b[0m\u001b[0mn\u001b[0m\u001b[0;34m[\u001b[0m\u001b[0;36m0\u001b[0m\u001b[0;34m]\u001b[0m\u001b[0;34m)\u001b[0m\u001b[0;34m\u001b[0m\u001b[0;34m\u001b[0m\u001b[0m\n\u001b[0m\u001b[1;32m     55\u001b[0m     \u001b[0mprint\u001b[0m\u001b[0;34m(\u001b[0m\u001b[0mn\u001b[0m\u001b[0;34m)\u001b[0m\u001b[0;34m\u001b[0m\u001b[0;34m\u001b[0m\u001b[0m\n\u001b[1;32m     56\u001b[0m     \u001b[0mm\u001b[0m \u001b[0;34m=\u001b[0m \u001b[0mmov_j2\u001b[0m\u001b[0;34m(\u001b[0m\u001b[0mm\u001b[0m\u001b[0;34m[\u001b[0m\u001b[0;36m0\u001b[0m\u001b[0;34m]\u001b[0m\u001b[0;34m)\u001b[0m\u001b[0;34m\u001b[0m\u001b[0;34m\u001b[0m\u001b[0m\n",
      "\u001b[0;32m<ipython-input-71-7b1f35377d83>\u001b[0m in \u001b[0;36mmov_j1\u001b[0;34m(tirada_j1)\u001b[0m\n\u001b[1;32m     40\u001b[0m         \u001b[0md\u001b[0m \u001b[0;34m=\u001b[0m \u001b[0;36m1\u001b[0m\u001b[0;34m\u001b[0m\u001b[0;34m\u001b[0m\u001b[0m\n\u001b[1;32m     41\u001b[0m     \u001b[0;32melse\u001b[0m\u001b[0;34m:\u001b[0m \u001b[0md\u001b[0m \u001b[0;34m=\u001b[0m \u001b[0;36m0\u001b[0m\u001b[0;34m\u001b[0m\u001b[0;34m\u001b[0m\u001b[0m\n\u001b[0;32m---> 42\u001b[0;31m     \u001b[0;32mreturn\u001b[0m \u001b[0;34m[\u001b[0m\u001b[0mtirada_j1\u001b[0m\u001b[0;34m,\u001b[0m\u001b[0mk\u001b[0m\u001b[0;34m,\u001b[0m\u001b[0mdinero\u001b[0m\u001b[0;34m,\u001b[0m\u001b[0md\u001b[0m\u001b[0;34m]\u001b[0m\u001b[0;34m\u001b[0m\u001b[0;34m\u001b[0m\u001b[0m\n\u001b[0m\u001b[1;32m     43\u001b[0m \u001b[0;34m\u001b[0m\u001b[0m\n\u001b[1;32m     44\u001b[0m \u001b[0;32mdef\u001b[0m \u001b[0mmov_j2\u001b[0m\u001b[0;34m(\u001b[0m\u001b[0mtirada_j2\u001b[0m\u001b[0;34m)\u001b[0m\u001b[0;34m:\u001b[0m\u001b[0;34m\u001b[0m\u001b[0;34m\u001b[0m\u001b[0m\n",
      "\u001b[0;31mUnboundLocalError\u001b[0m: local variable 'dinero' referenced before assignment"
     ]
    }
   ],
   "source": [
    "import random\n",
    "\n",
    "tablero = [{'inicio':20000},\n",
    "           {'canada':{'valor_de_la_propiedad':12000, 'renta':3600, 'costo_casa':2400, 'costo_hotel':6000, 'dueño':0, 'casas':0, 'hoteles':0, 'quien_esta':[0,0]}},\n",
    "          {'peru':{'valor_de_la_propiedad':15000, 'renta':4500, 'costo_casa':3000, 'costo_hotel':7500, 'dueño':0, 'casas':0, 'hoteles':0, 'quien_esta':[0,0]}},\n",
    "            {'brasil':{'valor_de_la_propiedad':23000, 'renta':6900, 'costo_casa':4600, 'costo_hotel':11500, 'dueño':0, 'casas':0, 'hoteles':0, 'quien_esta':[0,0]}},\n",
    "          {'carcel':-30000}, \n",
    "           {'portugal':{'valor_de_la_propiedad':30000, 'renta':9000, 'costo_casa':6000, 'costo_hotel':15000, 'dueño':0, 'casas':0, 'hoteles':0, 'quien_esta':[0,0]}},\n",
    "          {'italia':{'valor_de_la_propiedad':40000, 'renta':12000, 'costo_casa':8000, 'costo_hotel':20000, 'dueño':0, 'casas':0, 'hoteles':0, 'quien_esta':[0,0]}},\n",
    "          {'finlandia':{'valor_de_la_propiedad':26000, 'renta':7800, 'costo_casa':5200, 'costo_hotel':13000, 'dueño':0, 'casas':0, 'hoteles':0, 'quien_esta':[0,0]}},\n",
    "           {'sigue_adelante':0},\n",
    "          {'rusia':{'valor_de_la_propiedad':18000, 'renta':5400, 'costo_casa':3600, 'costo_hotel':9000, 'dueño':0, 'casas':0, 'hoteles':0, 'quien_esta':[0,0]}},\n",
    "          {'china':{'valor_de_la_propiedad':25000, 'renta':7500, 'costo_casa':5000, 'costo_hotel':12500, 'dueño':0, 'casas':0, 'hoteles':0, 'quien_esta':[0,0]}},\n",
    "          {'japon':{'valor_de_la_propiedad':41000, 'renta':12300, 'costo_casa':8200, 'costo_hotel':20500, 'dueño':0, 'casas':0, 'hoteles':0, 'quien_esta':[0,0]}},\n",
    "          {'ir_carcel':0},\n",
    "          {'argelia':{'valor_de_la_propiedad':32000, 'renta':9600, 'costo_casa':6400, 'costo_hotel':16000, 'dueño':0, 'casas':0, 'hoteles':0, 'quien_esta':[0,0]}},\n",
    "          {'congo':{'valor_de_la_propiedad':35000, 'renta':10500, 'costo_casa':7000, 'costo_hotel':17500, 'dueño':0, 'casas':0, 'hoteles':0, 'quien_esta':[0,0]}},\n",
    "          {'sudafrica':{'valor_de_la_propiedad':37000, 'renta':11100, 'costo_casa':7400, 'costo_hotel':18500, 'dueño':0, 'casas':0, 'hoteles':0, 'quien_esta':[0,0]}}]\n",
    "\n",
    "\n",
    "###### Ponemos las fichas en la casilla de salida\n",
    "n = [0, 'inicio', 150000, 0]  #n = [posición en tablero, nombre casilla, dinero, ¿compró?, casa, hotel]\n",
    "m = [0, 'inicio', 150000, 0]\n",
    "#jugadores = [{'jugador1':{'dinero':150000, 'casilla':n[1]}},{'jugador2':{'dinero':150000, 'casilla':m[1]}}]\n",
    "casilla_actual_j1 = tablero[tirada_j1]\n",
    "casilla_actual_j2 = tablero[tirada_j2]\n",
    "\n",
    "###### Turno jugador1\n",
    "###### Movimiento por tirar el dado\n",
    "def mov_j1(tirada_j1):\n",
    "    print('Turno jugador 1')\n",
    "    dado = random.randint(1,4) #dado normal del 1 al 4\n",
    "    tirada_j1 = (tirada_j1 + dado)%16\n",
    "    [[k,v]] = tablero[tirada_j1].items() #k guarda el nombre de la casilla y v guarda el diccionario de sus caracteristicas\n",
    "    valores_casilla = list(v.values())\n",
    "    print('El dado salió', dado, '\\nEl jugador 1 llegó a la casilla', k)\n",
    "    respuesta_comprar = int(input('¿Quieres comprar la propiedad? Presiona 1 para Sí, 2 para -No-.')) \n",
    "    if respuesta_comprar == 1:\n",
    "        dinero = n[2] - valores_casilla[0]\n",
    "        d = 1\n",
    "    else: d = 0\n",
    "    return [tirada_j1,k,dinero,d]\n",
    "\n",
    "def mov_j2(tirada_j2):\n",
    "    print('Turno jugador 2')\n",
    "    dado = random.randint(1,4) #dado normal del 1 al 4\n",
    "    tirada_j2 = (tirada_j2 + dado)%16\n",
    "    [[k,v]] = tablero[tirada_j2].items() #k guarda el nombre de la casilla y v guarda el diccionario de sus caracteristicas\n",
    "    print('El dado salió', dado, '\\nEl jugador 2 llegó a la casilla', k)\n",
    "    dinero = n[2] + 10\n",
    "    return [tirada_j2,k,dinero]\n",
    "\n",
    "for i in range(3):\n",
    "    n = mov_j1(n[0])\n",
    "    print(n)\n",
    "    m = mov_j2(m[0])\n",
    "    print(m)\n",
    "    \n"
   ]
  },
  {
   "cell_type": "code",
   "execution_count": 73,
   "metadata": {},
   "outputs": [
    {
     "name": "stdout",
     "output_type": "stream",
     "text": [
      "Turno jugador 1\n",
      "El dado salió 4 \n",
      "El jugador 1 llegó a la casilla carcel\n",
      "[4, 'carcel']\n",
      "Turno jugador 2\n",
      "El dado salió 2 \n",
      "El jugador 2 llegó a la casilla peru\n",
      "[2, 'peru']\n"
     ]
    }
   ],
   "source": [
    "import random\n",
    "\n",
    "tablero = [{'inicio':20000},\n",
    "           {'canada':{'valor_de_la_propiedad':12000, 'renta':3600, 'costo_casa':2400, 'costo_hotel':6000, 'dueño':0, 'casas':0, 'hoteles':0, 'quien_esta':[0,0]}},\n",
    "          {'peru':{'valor_de_la_propiedad':15000, 'renta':4500, 'costo_casa':3000, 'costo_hotel':7500, 'dueño':0, 'casas':0, 'hoteles':0, 'quien_esta':[0,0]}},\n",
    "            {'brasil':{'valor_de_la_propiedad':23000, 'renta':6900, 'costo_casa':4600, 'costo_hotel':11500, 'dueño':0, 'casas':0, 'hoteles':0, 'quien_esta':[0,0]}},\n",
    "          {'carcel':-30000}, \n",
    "           {'portugal':{'valor_de_la_propiedad':30000, 'renta':9000, 'costo_casa':6000, 'costo_hotel':15000, 'dueño':0, 'casas':0, 'hoteles':0, 'quien_esta':[0,0]}},\n",
    "          {'italia':{'valor_de_la_propiedad':40000, 'renta':12000, 'costo_casa':8000, 'costo_hotel':20000, 'dueño':0, 'casas':0, 'hoteles':0, 'quien_esta':[0,0]}},\n",
    "          {'finlandia':{'valor_de_la_propiedad':26000, 'renta':7800, 'costo_casa':5200, 'costo_hotel':13000, 'dueño':0, 'casas':0, 'hoteles':0, 'quien_esta':[0,0]}},\n",
    "           {'sigue_adelante':0},\n",
    "          {'rusia':{'valor_de_la_propiedad':18000, 'renta':5400, 'costo_casa':3600, 'costo_hotel':9000, 'dueño':0, 'casas':0, 'hoteles':0, 'quien_esta':[0,0]}},\n",
    "          {'china':{'valor_de_la_propiedad':25000, 'renta':7500, 'costo_casa':5000, 'costo_hotel':12500, 'dueño':0, 'casas':0, 'hoteles':0, 'quien_esta':[0,0]}},\n",
    "          {'japon':{'valor_de_la_propiedad':41000, 'renta':12300, 'costo_casa':8200, 'costo_hotel':20500, 'dueño':0, 'casas':0, 'hoteles':0, 'quien_esta':[0,0]}},\n",
    "          {'ir_carcel':0},\n",
    "          {'argelia':{'valor_de_la_propiedad':32000, 'renta':9600, 'costo_casa':6400, 'costo_hotel':16000, 'dueño':0, 'casas':0, 'hoteles':0, 'quien_esta':[0,0]}},\n",
    "          {'congo':{'valor_de_la_propiedad':35000, 'renta':10500, 'costo_casa':7000, 'costo_hotel':17500, 'dueño':0, 'casas':0, 'hoteles':0, 'quien_esta':[0,0]}},\n",
    "          {'sudafrica':{'valor_de_la_propiedad':37000, 'renta':11100, 'costo_casa':7400, 'costo_hotel':18500, 'dueño':0, 'casas':0, 'hoteles':0, 'quien_esta':[0,0]}}]\n",
    "\n",
    "jugadores = [{'jugador1':{'dinero':150000, 'casilla':k}},{'jugador2':{'dinero':150000, 'casilla':tablero[0]}}]\n",
    "\n",
    "\n",
    "###### Ponemos las fichas en la casilla de salida\n",
    "n = [0, 'inicio']\n",
    "m = [0, 'inicio']\n",
    "tirada_j1 = 0\n",
    "tirada_j2 = 0\n",
    "casilla_actual_j1 = tablero[tirada_j1]\n",
    "casilla_actual_j2 = tablero[tirada_j2]\n",
    "\n",
    "###### Turno jugador1\n",
    "###### Movimiento por tirar el dado\n",
    "def mov_j1(tirada_j1):\n",
    "    print('Turno jugador 1')\n",
    "    dado = random.randint(1,4) #dado normal del 1 al 4\n",
    "    tirada_j1 = (tirada_j1 + dado)%16\n",
    "    [[k,v]] = tablero[tirada_j1].items() #k guarda el nombre de la casilla y v guarda el diccionario de sus caracteristicas\n",
    "    print('El dado salió', dado, '\\nEl jugador 1 llegó a la casilla', k)\n",
    "    return [tirada_j1,k]\n",
    "\n",
    "def mov_j2(tirada_j2):\n",
    "    print('Turno jugador 2')\n",
    "    dado = random.randint(1,4) #dado normal del 1 al 4\n",
    "    tirada_j2 = (tirada_j2 + dado)%16\n",
    "    [[k,v]] = tablero[tirada_j2].items() #k guarda el nombre de la casilla y v guarda el diccionario de sus caracteristicas\n",
    "    print('El dado salió', dado, '\\nEl jugador 2 llegó a la casilla', k)\n",
    "    return [tirada_j2,k]\n",
    "\n",
    "for i in range(1):\n",
    "    n = mov_j1(n[0])\n",
    "    print(n)\n",
    "    m = mov_j2(m[0])\n",
    "    print(m)\n",
    "    "
   ]
  },
  {
   "cell_type": "code",
   "execution_count": null,
   "metadata": {},
   "outputs": [],
   "source": []
  }
 ],
 "metadata": {
  "kernelspec": {
   "display_name": "Python 3",
   "language": "python",
   "name": "python3"
  },
  "language_info": {
   "codemirror_mode": {
    "name": "ipython",
    "version": 3
   },
   "file_extension": ".py",
   "mimetype": "text/x-python",
   "name": "python",
   "nbconvert_exporter": "python",
   "pygments_lexer": "ipython3",
   "version": "3.7.3"
  }
 },
 "nbformat": 4,
 "nbformat_minor": 2
}
