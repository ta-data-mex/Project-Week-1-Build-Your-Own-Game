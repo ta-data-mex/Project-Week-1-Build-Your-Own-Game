{
 "cells": [
  {
   "cell_type": "code",
   "execution_count": 5,
   "metadata": {},
   "outputs": [
    {
     "name": "stdout",
     "output_type": "stream",
     "text": [
      "23400\n"
     ]
    }
   ],
   "source": [
    "#sumando elementos de los diccionarios internos\n",
    "import random\n",
    "\n",
    "tablero = [{'inicio':20000},\n",
    "           {'canada':{'valor_de_la_propiedad':12000, 'renta':3600, 'costo_casa':2400, 'costo_hotel':6000, 'dueño':0, 'casas':0, 'hoteles':0, 'quien_esta':[0,0]}},\n",
    "          {'peru':{'valor_de_la_propiedad':15000, 'renta':4500, 'costo_casa':3000, 'costo_hotel':7500, 'dueño':0, 'casas':0, 'hoteles':0, 'quien_esta':[0,0]}},\n",
    "            {'brasil':{'valor_de_la_propiedad':23000, 'renta':6900, 'costo_casa':4600, 'costo_hotel':11500, 'dueño':0, 'casas':0, 'hoteles':0, 'quien_esta':[0,0]}},\n",
    "          {'carcel':-30000}, \n",
    "           {'portugal':{'valor_de_la_propiedad':30000, 'renta':9000, 'costo_casa':6000, 'costo_hotel':15000, 'dueño':0, 'casas':0, 'hoteles':0, 'quien_esta':[0,0]}},\n",
    "          {'italia':{'valor_de_la_propiedad':40000, 'renta':12000, 'costo_casa':8000, 'costo_hotel':20000, 'dueño':0, 'casas':0, 'hoteles':0, 'quien_esta':[0,0]}},\n",
    "          {'finlandia':{'valor_de_la_propiedad':26000, 'renta':7800, 'costo_casa':5200, 'costo_hotel':13000, 'dueño':0, 'casas':0, 'hoteles':0, 'quien_esta':[0,0]}},\n",
    "           {'sigue_adelante':0},\n",
    "          {'rusia':{'valor_de_la_propiedad':18000, 'renta':5400, 'costo_casa':3600, 'costo_hotel':9000, 'dueño':0, 'casas':0, 'hoteles':0, 'quien_esta':[0,0]}},\n",
    "          {'china':{'valor_de_la_propiedad':25000, 'renta':7500, 'costo_casa':5000, 'costo_hotel':12500, 'dueño':0, 'casas':0, 'hoteles':0, 'quien_esta':[0,0]}},\n",
    "          {'japon':{'valor_de_la_propiedad':41000, 'renta':12300, 'costo_casa':8200, 'costo_hotel':20500, 'dueño':0, 'casas':0, 'hoteles':0, 'quien_esta':[0,0]}},\n",
    "          {'ir_carcel':0},\n",
    "          {'argelia':{'valor_de_la_propiedad':32000, 'renta':9600, 'costo_casa':6400, 'costo_hotel':16000, 'dueño':0, 'casas':0, 'hoteles':0, 'quien_esta':[0,0]}},\n",
    "          {'congo':{'valor_de_la_propiedad':35000, 'renta':10500, 'costo_casa':7000, 'costo_hotel':17500, 'dueño':0, 'casas':0, 'hoteles':0, 'quien_esta':[0,0]}},\n",
    "          {'sudafrica':{'valor_de_la_propiedad':37000, 'renta':11100, 'costo_casa':7400, 'costo_hotel':18500, 'dueño':0, 'casas':0, 'hoteles':0, 'quien_esta':[0,0]}}]\n",
    "\n",
    "\n",
    "[[k,v]] = tablero[3].items() #k guarda el nombre de la casilla y v guarda el diccionario de sus caracteristicas\n",
    "\n",
    "a = 400\n",
    "a = a + v['valor_de_la_propiedad']\n",
    "print(a)"
   ]
  },
  {
   "cell_type": "code",
   "execution_count": 8,
   "metadata": {},
   "outputs": [],
   "source": [
    "#prueba de función de compras\n",
    "n = [0, 'inicio', 150000]\n",
    "\n",
    "###### Funcion de compras\n",
    "import random\n",
    "\n",
    "def propiedad (jugador, posicion, dueno):\n",
    "\n",
    "    board = [{'inicio':20000},\n",
    "           {'canada':{'valor_de_la_propiedad':12000, 'renta':3600, 'costo_casa':2400, 'costo_hotel':6000, 'dueño':0, 'casas':0, 'hoteles':0, 'quien_esta':[0,0]}},\n",
    "          {'peru':{'valor_de_la_propiedad':15000, 'renta':4500, 'costo_casa':3000, 'costo_hotel':7500, 'dueño':0, 'casas':0, 'hoteles':0, 'quien_esta':[0,0]}},\n",
    "            {'brasil':{'valor_de_la_propiedad':23000, 'renta':6900, 'costo_casa':4600, 'costo_hotel':11500, 'dueño':0, 'casas':0, 'hoteles':0, 'quien_esta':[0,0]}},\n",
    "          {'carcel':-30000}, \n",
    "           {'portugal':{'valor_de_la_propiedad':30000, 'renta':9000, 'costo_casa':6000, 'costo_hotel':15000, 'dueño':0, 'casas':0, 'hoteles':0, 'quien_esta':[0,0]}},\n",
    "          {'italia':{'valor_de_la_propiedad':40000, 'renta':12000, 'costo_casa':8000, 'costo_hotel':20000, 'dueño':0, 'casas':0, 'hoteles':0, 'quien_esta':[0,0]}},\n",
    "          {'finlandia':{'valor_de_la_propiedad':26000, 'renta':7800, 'costo_casa':5200, 'costo_hotel':13000, 'dueño':0, 'casas':0, 'hoteles':0, 'quien_esta':[0,0]}},\n",
    "           {'sigue_adelante':0},\n",
    "          {'rusia':{'valor_de_la_propiedad':18000, 'renta':5400, 'costo_casa':3600, 'costo_hotel':9000, 'dueño':0, 'casas':0, 'hoteles':0, 'quien_esta':[0,0]}},\n",
    "          {'china':{'valor_de_la_propiedad':25000, 'renta':7500, 'costo_casa':5000, 'costo_hotel':12500, 'dueño':0, 'casas':0, 'hoteles':0, 'quien_esta':[0,0]}},\n",
    "          {'japon':{'valor_de_la_propiedad':41000, 'renta':12300, 'costo_casa':8200, 'costo_hotel':20500, 'dueño':0, 'casas':0, 'hoteles':0, 'quien_esta':[0,0]}},\n",
    "          {'ir_carcel':0},\n",
    "          {'argelia':{'valor_de_la_propiedad':32000, 'renta':9600, 'costo_casa':6400, 'costo_hotel':16000, 'dueño':0, 'casas':0, 'hoteles':0, 'quien_esta':[0,0]}},\n",
    "          {'congo':{'valor_de_la_propiedad':35000, 'renta':10500, 'costo_casa':7000, 'costo_hotel':17500, 'dueño':0, 'casas':0, 'hoteles':0, 'quien_esta':[0,0]}},\n",
    "          {'sudafrica':{'valor_de_la_propiedad':37000, 'renta':11100, 'costo_casa':7400, 'costo_hotel':18500, 'dueño':0, 'casas':0, 'hoteles':0, 'quien_esta':[0,0]}}]\n",
    "\n",
    "\n",
    "    [[kc,vc]] = board[posicion].items() #k guarda el nombre de la casilla y v guarda el diccionario de sus caracteristicas\n",
    "    #pais = list(v.values())\n",
    "    \n",
    "    capital = n[2]\n",
    "    if dueno == 0:\n",
    "        respuesta_comprar = int(input('¿Quieres comprar la propiedad? Presiona 1 para Sí, 2 para -No-.'))\n",
    "        capital = capital + v['valor_de_la_propiedad'] #pais[0]\n",
    "    return capital"
   ]
  },
  {
   "cell_type": "code",
   "execution_count": 40,
   "metadata": {},
   "outputs": [
    {
     "name": "stdout",
     "output_type": "stream",
     "text": [
      "{'canada': {'valor_de_la_propiedad': 12000, 'renta': 3600, 'costo_casa': 2400, 'costo_hotel': 6000, 'dueño': 2, 'casas': 0, 'hoteles': 0, 'quien_esta': [0, 0]}}\n"
     ]
    }
   ],
   "source": [
    "#prueba de actualización del diccionario \n",
    "tablero = [{'inicio':20000},\n",
    "           {'canada':{'valor_de_la_propiedad':12000, 'renta':3600, 'costo_casa':2400, 'costo_hotel':6000, 'dueño':0, 'casas':0, 'hoteles':0, 'quien_esta':[0,0]}},\n",
    "          {'peru':{'valor_de_la_propiedad':15000, 'renta':4500, 'costo_casa':3000, 'costo_hotel':7500, 'dueño':0, 'casas':0, 'hoteles':0, 'quien_esta':[0,0]}},\n",
    "            {'brasil':{'valor_de_la_propiedad':23000, 'renta':6900, 'costo_casa':4600, 'costo_hotel':11500, 'dueño':0, 'casas':0, 'hoteles':0, 'quien_esta':[0,0]}},\n",
    "          {'carcel':-30000}, \n",
    "           {'portugal':{'valor_de_la_propiedad':30000, 'renta':9000, 'costo_casa':6000, 'costo_hotel':15000, 'dueño':0, 'casas':0, 'hoteles':0, 'quien_esta':[0,0]}},\n",
    "          {'italia':{'valor_de_la_propiedad':40000, 'renta':12000, 'costo_casa':8000, 'costo_hotel':20000, 'dueño':0, 'casas':0, 'hoteles':0, 'quien_esta':[0,0]}},\n",
    "          {'finlandia':{'valor_de_la_propiedad':26000, 'renta':7800, 'costo_casa':5200, 'costo_hotel':13000, 'dueño':0, 'casas':0, 'hoteles':0, 'quien_esta':[0,0]}},\n",
    "           {'sigue_adelante':0},\n",
    "          {'rusia':{'valor_de_la_propiedad':18000, 'renta':5400, 'costo_casa':3600, 'costo_hotel':9000, 'dueño':0, 'casas':0, 'hoteles':0, 'quien_esta':[0,0]}},\n",
    "          {'china':{'valor_de_la_propiedad':25000, 'renta':7500, 'costo_casa':5000, 'costo_hotel':12500, 'dueño':0, 'casas':0, 'hoteles':0, 'quien_esta':[0,0]}},\n",
    "          {'japon':{'valor_de_la_propiedad':41000, 'renta':12300, 'costo_casa':8200, 'costo_hotel':20500, 'dueño':0, 'casas':0, 'hoteles':0, 'quien_esta':[0,0]}},\n",
    "          {'ir_carcel':0},\n",
    "          {'argelia':{'valor_de_la_propiedad':32000, 'renta':9600, 'costo_casa':6400, 'costo_hotel':16000, 'dueño':0, 'casas':0, 'hoteles':0, 'quien_esta':[0,0]}},\n",
    "          {'congo':{'valor_de_la_propiedad':35000, 'renta':10500, 'costo_casa':7000, 'costo_hotel':17500, 'dueño':0, 'casas':0, 'hoteles':0, 'quien_esta':[0,0]}},\n",
    "          {'sudafrica':{'valor_de_la_propiedad':37000, 'renta':11100, 'costo_casa':7400, 'costo_hotel':18500, 'dueño':0, 'casas':0, 'hoteles':0, 'quien_esta':[0,0]}}]\n",
    "\n",
    "#for k in tablero[1].values():\n",
    "#    for key, value in k.items():\n",
    "#        print(value)\n",
    "        \n",
    "#k = tablero[1].values()\n",
    "#print(type(k))\n",
    "\n",
    "#Función de cambio de algún valor en un diccionario anidado\n",
    "def cambio_dic (d,required_key, new_value):\n",
    "    for k, v in d.items():\n",
    "        if isinstance(v,dict):\n",
    "            cambio_dic(v, required_key, new_value)\n",
    "        if k == required_key:\n",
    "            d[k] = new_value\n",
    "\n",
    "cambio_dic(tablero[1], 'dueño', 2)\n",
    "print(tablero[1])"
   ]
  },
  {
   "cell_type": "code",
   "execution_count": null,
   "metadata": {},
   "outputs": [],
   "source": []
  }
 ],
 "metadata": {
  "kernelspec": {
   "display_name": "Python 3",
   "language": "python",
   "name": "python3"
  },
  "language_info": {
   "codemirror_mode": {
    "name": "ipython",
    "version": 3
   },
   "file_extension": ".py",
   "mimetype": "text/x-python",
   "name": "python",
   "nbconvert_exporter": "python",
   "pygments_lexer": "ipython3",
   "version": "3.7.3"
  }
 },
 "nbformat": 4,
 "nbformat_minor": 2
}
